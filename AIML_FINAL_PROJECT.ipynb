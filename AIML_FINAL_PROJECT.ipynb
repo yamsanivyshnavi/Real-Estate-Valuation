{
  "nbformat": 4,
  "nbformat_minor": 0,
  "metadata": {
    "colab": {
      "provenance": []
    },
    "kernelspec": {
      "name": "python3",
      "display_name": "Python 3"
    },
    "language_info": {
      "name": "python"
    }
  },
  "cells": [
    {
      "cell_type": "code",
      "source": [
        "import pandas as pd\n",
        "#d=pd.read_exec('/content/dataset1.csv')\n",
        "d=pd.read_excel('/content/Real estate valuation data set.xlsx')\n",
        "print(d)\n"
      ],
      "metadata": {
        "colab": {
          "base_uri": "https://localhost:8080/"
        },
        "id": "UAut5-WV4iJB",
        "outputId": "9823921b-df2d-4689-f2c7-076e881e80ed"
      },
      "execution_count": null,
      "outputs": [
        {
          "output_type": "stream",
          "name": "stdout",
          "text": [
            "      No  X1 transaction date  X2 house age  \\\n",
            "0      1          2012.916667          32.0   \n",
            "1      2          2012.916667          19.5   \n",
            "2      3          2013.583333          13.3   \n",
            "3      4          2013.500000          13.3   \n",
            "4      5          2012.833333           5.0   \n",
            "..   ...                  ...           ...   \n",
            "409  410          2013.000000          13.7   \n",
            "410  411          2012.666667           5.6   \n",
            "411  412          2013.250000          18.8   \n",
            "412  413          2013.000000           8.1   \n",
            "413  414          2013.500000           6.5   \n",
            "\n",
            "     X3 distance to the nearest MRT station  X4 number of convenience stores  \\\n",
            "0                                  84.87882                               10   \n",
            "1                                 306.59470                                9   \n",
            "2                                 561.98450                                5   \n",
            "3                                 561.98450                                5   \n",
            "4                                 390.56840                                5   \n",
            "..                                      ...                              ...   \n",
            "409                              4082.01500                                0   \n",
            "410                                90.45606                                9   \n",
            "411                               390.96960                                7   \n",
            "412                               104.81010                                5   \n",
            "413                                90.45606                                9   \n",
            "\n",
            "     X5 latitude  X6 longitude  Y house price of unit area  \n",
            "0       24.98298     121.54024                        37.9  \n",
            "1       24.98034     121.53951                        42.2  \n",
            "2       24.98746     121.54391                        47.3  \n",
            "3       24.98746     121.54391                        54.8  \n",
            "4       24.97937     121.54245                        43.1  \n",
            "..           ...           ...                         ...  \n",
            "409     24.94155     121.50381                        15.4  \n",
            "410     24.97433     121.54310                        50.0  \n",
            "411     24.97923     121.53986                        40.6  \n",
            "412     24.96674     121.54067                        52.5  \n",
            "413     24.97433     121.54310                        63.9  \n",
            "\n",
            "[414 rows x 8 columns]\n"
          ]
        }
      ]
    },
    {
      "cell_type": "code",
      "source": [
        "x1=d['X1 transaction date']\n",
        "y=d['Y house price of unit area']\n",
        "print(x1,y)\n"
      ],
      "metadata": {
        "colab": {
          "base_uri": "https://localhost:8080/"
        },
        "id": "ujXIcg-_4zWK",
        "outputId": "a0d84bc8-0970-460f-c884-1e258499e130"
      },
      "execution_count": null,
      "outputs": [
        {
          "output_type": "stream",
          "name": "stdout",
          "text": [
            "0      2012.916667\n",
            "1      2012.916667\n",
            "2      2013.583333\n",
            "3      2013.500000\n",
            "4      2012.833333\n",
            "          ...     \n",
            "409    2013.000000\n",
            "410    2012.666667\n",
            "411    2013.250000\n",
            "412    2013.000000\n",
            "413    2013.500000\n",
            "Name: X1 transaction date, Length: 414, dtype: float64 0      37.9\n",
            "1      42.2\n",
            "2      47.3\n",
            "3      54.8\n",
            "4      43.1\n",
            "       ... \n",
            "409    15.4\n",
            "410    50.0\n",
            "411    40.6\n",
            "412    52.5\n",
            "413    63.9\n",
            "Name: Y house price of unit area, Length: 414, dtype: float64\n"
          ]
        }
      ]
    },
    {
      "cell_type": "code",
      "source": [
        "ee=[]\n",
        "import numpy as np\n",
        "mm=[]\n",
        "cc=[]\n",
        "def liner(m1,c):\n",
        "  ye=[]\n",
        "  yp=[]\n",
        "  sum=0\n",
        "  mm.append(m1)\n",
        "  cc.append(c)\n",
        "  for i in range(0,len(x1)):\n",
        "    yp.append(m1*x1[i]+c)\n",
        "    ye.append((y[i]-yp[i])**2)\n",
        "  #print(ye)\n",
        "  for i in range(0,len(x1)):\n",
        "    sum=sum+ye[i]\n",
        "  ee1=np.mod(sum,len(x1))\n",
        "  print(ee1)\n",
        "  ee.append(ee1)\n",
        "  #print(ee1)\n",
        "\n",
        "\n",
        "\n"
      ],
      "metadata": {
        "id": "xBriUs7a43Yj"
      },
      "execution_count": null,
      "outputs": []
    },
    {
      "cell_type": "code",
      "source": [
        "a=np.array(ee).min()\n",
        "print(a)\n",
        "ind=ee.index(a)\n",
        "print(ind)\n",
        "print(mm[ind],cc[ind])\n",
        "print(len(ee))\n",
        "print(\"lll\",ee[34])\n"
      ],
      "metadata": {
        "colab": {
          "base_uri": "https://localhost:8080/"
        },
        "id": "6mVjpK3C55pY",
        "outputId": "f16c74a6-13ef-4307-d7c5-5d45cd5207ca"
      },
      "execution_count": null,
      "outputs": [
        {
          "output_type": "stream",
          "name": "stdout",
          "text": [
            "12.4990234375\n",
            "36\n",
            "46 56\n",
            "50\n",
            "lll 42.36767578125\n"
          ]
        }
      ]
    },
    {
      "cell_type": "code",
      "source": [
        "for i in range(0,50):\n",
        "  liner(i+10,i+20)\n"
      ],
      "metadata": {
        "colab": {
          "base_uri": "https://localhost:8080/"
        },
        "id": "hFOo3dyz59lR",
        "outputId": "f7c15c43-da47-47f0-8f23-0307c5e6d61d"
      },
      "execution_count": null,
      "outputs": [
        {
          "output_type": "stream",
          "name": "stdout",
          "text": [
            "365.7461853027344\n",
            "187.69155883789062\n",
            "80.36514282226562\n",
            "43.766845703125\n",
            "77.896240234375\n",
            "182.75396728515625\n",
            "358.34063720703125\n",
            "190.65435791015625\n",
            "93.69683837890625\n",
            "67.4661865234375\n",
            "111.9649658203125\n",
            "227.19189453125\n",
            "413.14697265625\n",
            "255.8294677734375\n",
            "169.240478515625\n",
            "153.3798828125\n",
            "208.24658203125\n",
            "333.84130859375\n",
            "116.165771484375\n",
            "383.216796875\n",
            "306.998046875\n",
            "301.505126953125\n",
            "366.741943359375\n",
            "88.70556640625\n",
            "295.397705078125\n",
            "158.819091796875\n",
            "92.966064453125\n",
            "97.84375\n",
            "173.44677734375\n",
            "319.7822265625\n",
            "122.841796875\n",
            "410.62744140625\n",
            "355.1494140625\n",
            "370.39306640625\n",
            "42.36767578125\n",
            "199.072265625\n",
            "12.4990234375\n",
            "310.65673828125\n",
            "265.54296875\n",
            "291.16015625\n",
            "387.5029296875\n",
            "140.56982421875\n",
            "378.369140625\n",
            "272.8974609375\n",
            "238.150390625\n",
            "274.13671875\n",
            "380.83984375\n",
            "144.28515625\n",
            "392.4521484375\n",
            "297.353515625\n"
          ]
        }
      ]
    },
    {
      "cell_type": "code",
      "source": [
        "from matplotlib import pyplot as pt\n",
        "import numpy as np\n",
        "x=[]\n",
        "for i in range(0,50):\n",
        "  x.append(i)\n",
        "pt.plot(x,ee)\n"
      ],
      "metadata": {
        "colab": {
          "base_uri": "https://localhost:8080/",
          "height": 282
        },
        "id": "02e7CJ0k6NBW",
        "outputId": "16456e86-4ceb-4f31-cc7c-a63648e04387"
      },
      "execution_count": null,
      "outputs": [
        {
          "output_type": "execute_result",
          "data": {
            "text/plain": [
              "[<matplotlib.lines.Line2D at 0x7fcd98740c50>]"
            ]
          },
          "metadata": {},
          "execution_count": 9
        },
        {
          "output_type": "display_data",
          "data": {
            "text/plain": [
              "<Figure size 432x288 with 1 Axes>"
            ],
            "image/png": "[encoded data removed]"
          },
          "metadata": {
            "needs_background": "light"
          }
        }
      ]
    },
    {
      "cell_type": "code",
      "source": [
        "from matplotlib import pyplot as plt\n",
        "plt.scatter(x1,y)\n"
      ],
      "metadata": {
        "colab": {
          "base_uri": "https://localhost:8080/",
          "height": 282
        },
        "id": "29oRGw016N--",
        "outputId": "bf399fc6-4968-4643-df94-ed968fb2057a"
      },
      "execution_count": null,
      "outputs": [
        {
          "output_type": "execute_result",
          "data": {
            "text/plain": [
              "<matplotlib.collections.PathCollection at 0x7fcd98789690>"
            ]
          },
          "metadata": {},
          "execution_count": 10
        },
        {
          "output_type": "display_data",
          "data": {
            "text/plain": [
              "<Figure size 432x288 with 1 Axes>"
            ],
            "image/png": "[encoded data removed]"
          },
          "metadata": {
            "needs_background": "light"
          }
        }
      ]
    },
    {
      "cell_type": "code",
      "source": [
        "x2=d['X2 house age']\n",
        "y=d['Y house price of unit area']\n",
        "print(x2,y)\n",
        "\n"
      ],
      "metadata": {
        "colab": {
          "base_uri": "https://localhost:8080/"
        },
        "id": "7GUlpu836UWl",
        "outputId": "a04b53ab-b18f-4622-a07f-2d2ff6baa85d"
      },
      "execution_count": null,
      "outputs": [
        {
          "output_type": "stream",
          "name": "stdout",
          "text": [
            "0      32.0\n",
            "1      19.5\n",
            "2      13.3\n",
            "3      13.3\n",
            "4       5.0\n",
            "       ... \n",
            "409    13.7\n",
            "410     5.6\n",
            "411    18.8\n",
            "412     8.1\n",
            "413     6.5\n",
            "Name: X2 house age, Length: 414, dtype: float64 0      37.9\n",
            "1      42.2\n",
            "2      47.3\n",
            "3      54.8\n",
            "4      43.1\n",
            "       ... \n",
            "409    15.4\n",
            "410    50.0\n",
            "411    40.6\n",
            "412    52.5\n",
            "413    63.9\n",
            "Name: Y house price of unit area, Length: 414, dtype: float64\n"
          ]
        }
      ]
    },
    {
      "cell_type": "code",
      "source": [
        "ee=[]\n",
        "import numpy as np\n",
        "mm=[]\n",
        "cc=[]\n",
        "def liner(m1,m2,c):\n",
        "  ye=[]\n",
        "  yp=[]\n",
        "  sum=0\n",
        "  mm.append(m1)\n",
        "  cc.append(c)\n",
        "  for i in range(0,len(x1)):\n",
        "    yp.append(m1*x1[i]+m2*x2[i]+c)\n",
        "    ye.append((y[i]-yp[i])**2)\n",
        "  for i in range(0,len(x1)):\n",
        "    sum=sum+ye[i]\n",
        "  ee1=np.mod(sum,len(x1))\n",
        "  ee.append(ee1)\n",
        "  print(ee1)\n"
      ],
      "metadata": {
        "id": "qJMse3hu6eMZ"
      },
      "execution_count": null,
      "outputs": []
    },
    {
      "cell_type": "code",
      "source": [
        "a=np.array(ee).min()\n",
        "print(a)\n",
        "ind=ee.index(a)\n",
        "print(ind)\n",
        "print(mm[ind],cc[ind])\n",
        "print(len(ee))\n",
        "print(\"lll\",ee[7])\n"
      ],
      "metadata": {
        "colab": {
          "base_uri": "https://localhost:8080/"
        },
        "id": "G0jxmiuD6kYY",
        "outputId": "c5c5e979-cff4-4a24-d26f-e21b924cc585"
      },
      "execution_count": null,
      "outputs": [
        {
          "output_type": "stream",
          "name": "stdout",
          "text": [
            "6.0443115234375\n",
            "6\n",
            "16 12\n",
            "50\n",
            "lll 67.29962158203125\n"
          ]
        }
      ]
    },
    {
      "cell_type": "code",
      "source": [
        "from matplotlib import pyplot as pt\n",
        "import numpy as np\n",
        "x=[]\n",
        "for i in range(0,50):\n",
        "  x.append(i)\n",
        "pt.plot(x,ee)\n",
        "\n"
      ],
      "metadata": {
        "colab": {
          "base_uri": "https://localhost:8080/",
          "height": 282
        },
        "id": "KTF6Ayu66tJt",
        "outputId": "49becd87-6c1e-4a1b-e4a9-aa94394288aa"
      },
      "execution_count": null,
      "outputs": [
        {
          "output_type": "execute_result",
          "data": {
            "text/plain": [
              "[<matplotlib.lines.Line2D at 0x7fcd97ff2210>]"
            ]
          },
          "metadata": {},
          "execution_count": 18
        },
        {
          "output_type": "display_data",
          "data": {
            "text/plain": [
              "<Figure size 432x288 with 1 Axes>"
            ],
            "image/png": "[encoded data removed]"
          },
          "metadata": {
            "needs_background": "light"
          }
        }
      ]
    },
    {
      "cell_type": "code",
      "source": [
        "for i in range(0,50):\n",
        "  liner(i+10,i+20,i+i)\n"
      ],
      "metadata": {
        "colab": {
          "base_uri": "https://localhost:8080/"
        },
        "id": "gEP_L4ev6m82",
        "outputId": "1fd71c12-7d51-4f35-b23e-0cc68307207c"
      },
      "execution_count": null,
      "outputs": [
        {
          "output_type": "stream",
          "name": "stdout",
          "text": [
            "149.484619140625\n",
            "123.89071655273438\n",
            "181.77191162109375\n",
            "323.12774658203125\n",
            "133.95843505859375\n",
            "28.2637939453125\n",
            "6.0443115234375\n",
            "67.29962158203125\n",
            "212.029296875\n",
            "26.234375\n",
            "337.91455078125\n",
            "319.0684814453125\n",
            "383.699462890625\n",
            "117.80322265625\n",
            "349.382568359375\n",
            "250.43603515625\n",
            "234.96533203125\n",
            "302.96875\n",
            "40.44921875\n",
            "275.401123046875\n",
            "179.828369140625\n",
            "167.7333984375\n",
            "239.112060546875\n",
            "393.962890625\n",
            "218.292236328125\n",
            "126.09619140625\n",
            "117.37158203125\n",
            "192.12548828125\n",
            "350.35205078125\n",
            "178.05322265625\n",
            "89.2294921875\n",
            "83.8828125\n",
            "162.00927734375\n",
            "323.6103515625\n",
            "154.68310546875\n",
            "69.23779296875\n",
            "67.2578125\n",
            "148.765625\n",
            "313.73828125\n",
            "148.19287109375\n",
            "66.1181640625\n",
            "67.5146484375\n",
            "152.390625\n",
            "320.7451171875\n",
            "158.5673828125\n",
            "79.8671875\n",
            "84.6416015625\n",
            "172.890625\n",
            "344.62109375\n",
            "185.8134765625\n"
          ]
        }
      ]
    },
    {
      "cell_type": "code",
      "source": [
        "from matplotlib import pyplot as pt\n",
        "import numpy as np\n",
        "x=[]\n",
        "for i in range(0,50):\n",
        "  x.append(i)\n",
        "pt.plot(x,ee)\n",
        "\n"
      ],
      "metadata": {
        "colab": {
          "base_uri": "https://localhost:8080/",
          "height": 282
        },
        "id": "ktYgt_4Y6zY_",
        "outputId": "80c0d7e7-90a8-43d7-b90c-f2b0246c2d00"
      },
      "execution_count": null,
      "outputs": [
        {
          "output_type": "execute_result",
          "data": {
            "text/plain": [
              "[<matplotlib.lines.Line2D at 0x7fcd9884fbd0>]"
            ]
          },
          "metadata": {},
          "execution_count": 21
        },
        {
          "output_type": "display_data",
          "data": {
            "text/plain": [
              "<Figure size 432x288 with 1 Axes>"
            ],
            "image/png": "[encoded data removed]"
          },
          "metadata": {
            "needs_background": "light"
          }
        }
      ]
    },
    {
      "cell_type": "code",
      "source": [
        "from matplotlib import pyplot as plt\n",
        "plt.scatter(x2,y)\n"
      ],
      "metadata": {
        "colab": {
          "base_uri": "https://localhost:8080/",
          "height": 282
        },
        "id": "jV37J_gd61Xd",
        "outputId": "1b4d1c85-19a9-41b5-a2b2-0152acf667d1"
      },
      "execution_count": null,
      "outputs": [
        {
          "output_type": "execute_result",
          "data": {
            "text/plain": [
              "<matplotlib.collections.PathCollection at 0x7fcd9881bd10>"
            ]
          },
          "metadata": {},
          "execution_count": 22
        },
        {
          "output_type": "display_data",
          "data": {
            "text/plain": [
              "<Figure size 432x288 with 1 Axes>"
            ],
            "image/png": "[encoded data removed]"
          },
          "metadata": {
            "needs_background": "light"
          }
        }
      ]
    },
    {
      "cell_type": "code",
      "source": [
        "from matplotlib import pyplot as plt\n",
        "plt.scatter(x2,y)\n",
        "x3=d['X3 distanc to the nearest MRT station']\n",
        "y=d['Y house price of unit area']\n",
        "print(x3,y)\n"
      ],
      "metadata": {
        "colab": {
          "base_uri": "https://localhost:8080/",
          "height": 750
        },
        "id": "hdvowjvD640U",
        "outputId": "ac93c93a-4f03-40ee-95fb-1e55215be5a7"
      },
      "execution_count": null,
      "outputs": [
        {
          "output_type": "error",
          "ename": "KeyError",
          "evalue": "ignored",
          "traceback": [
            "\u001b[0;31m---------------------------------------------------------------------------\u001b[0m",
            "\u001b[0;31mKeyError\u001b[0m                                  Traceback (most recent call last)",
            "\u001b[0;32m/usr/local/lib/python3.7/dist-packages/pandas/core/indexes/base.py\u001b[0m in \u001b[0;36mget_loc\u001b[0;34m(self, key, method, tolerance)\u001b[0m\n\u001b[1;32m   3360\u001b[0m             \u001b[0;32mtry\u001b[0m\u001b[0;34m:\u001b[0m\u001b[0;34m\u001b[0m\u001b[0;34m\u001b[0m\u001b[0m\n\u001b[0;32m-> 3361\u001b[0;31m                 \u001b[0;32mreturn\u001b[0m \u001b[0mself\u001b[0m\u001b[0;34m.\u001b[0m\u001b[0m_engine\u001b[0m\u001b[0;34m.\u001b[0m\u001b[0mget_loc\u001b[0m\u001b[0;34m(\u001b[0m\u001b[0mcasted_key\u001b[0m\u001b[0;34m)\u001b[0m\u001b[0;34m\u001b[0m\u001b[0;34m\u001b[0m\u001b[0m\n\u001b[0m\u001b[1;32m   3362\u001b[0m             \u001b[0;32mexcept\u001b[0m \u001b[0mKeyError\u001b[0m \u001b[0;32mas\u001b[0m \u001b[0merr\u001b[0m\u001b[0;34m:\u001b[0m\u001b[0;34m\u001b[0m\u001b[0;34m\u001b[0m\u001b[0m\n",
            "\u001b[0;32m/usr/local/lib/python3.7/dist-packages/pandas/_libs/index.pyx\u001b[0m in \u001b[0;36mpandas._libs.index.IndexEngine.get_loc\u001b[0;34m()\u001b[0m\n",
            "\u001b[0;32m/usr/local/lib/python3.7/dist-packages/pandas/_libs/index.pyx\u001b[0m in \u001b[0;36mpandas._libs.index.IndexEngine.get_loc\u001b[0;34m()\u001b[0m\n",
            "\u001b[0;32mpandas/_libs/hashtable_class_helper.pxi\u001b[0m in \u001b[0;36mpandas._libs.hashtable.PyObjectHashTable.get_item\u001b[0;34m()\u001b[0m\n",
            "\u001b[0;32mpandas/_libs/hashtable_class_helper.pxi\u001b[0m in \u001b[0;36mpandas._libs.hashtable.PyObjectHashTable.get_item\u001b[0;34m()\u001b[0m\n",
            "\u001b[0;31mKeyError\u001b[0m: 'X3 distanc to the nearest MRT station'",
            "\nThe above exception was the direct cause of the following exception:\n",
            "\u001b[0;31mKeyError\u001b[0m                                  Traceback (most recent call last)",
            "\u001b[0;32m<ipython-input-26-c6bf1f5c6287>\u001b[0m in \u001b[0;36m<module>\u001b[0;34m()\u001b[0m\n\u001b[1;32m      1\u001b[0m \u001b[0;32mfrom\u001b[0m \u001b[0mmatplotlib\u001b[0m \u001b[0;32mimport\u001b[0m \u001b[0mpyplot\u001b[0m \u001b[0;32mas\u001b[0m \u001b[0mplt\u001b[0m\u001b[0;34m\u001b[0m\u001b[0;34m\u001b[0m\u001b[0m\n\u001b[1;32m      2\u001b[0m \u001b[0mplt\u001b[0m\u001b[0;34m.\u001b[0m\u001b[0mscatter\u001b[0m\u001b[0;34m(\u001b[0m\u001b[0mx2\u001b[0m\u001b[0;34m,\u001b[0m\u001b[0my\u001b[0m\u001b[0;34m)\u001b[0m\u001b[0;34m\u001b[0m\u001b[0;34m\u001b[0m\u001b[0m\n\u001b[0;32m----> 3\u001b[0;31m \u001b[0mx3\u001b[0m\u001b[0;34m=\u001b[0m\u001b[0md\u001b[0m\u001b[0;34m[\u001b[0m\u001b[0;34m'X3 distanc to the nearest MRT station'\u001b[0m\u001b[0;34m]\u001b[0m\u001b[0;34m\u001b[0m\u001b[0;34m\u001b[0m\u001b[0m\n\u001b[0m\u001b[1;32m      4\u001b[0m \u001b[0my\u001b[0m\u001b[0;34m=\u001b[0m\u001b[0md\u001b[0m\u001b[0;34m[\u001b[0m\u001b[0;34m'Y house price of unit area'\u001b[0m\u001b[0;34m]\u001b[0m\u001b[0;34m\u001b[0m\u001b[0;34m\u001b[0m\u001b[0m\n\u001b[1;32m      5\u001b[0m \u001b[0mprint\u001b[0m\u001b[0;34m(\u001b[0m\u001b[0mx3\u001b[0m\u001b[0;34m,\u001b[0m\u001b[0my\u001b[0m\u001b[0;34m)\u001b[0m\u001b[0;34m\u001b[0m\u001b[0;34m\u001b[0m\u001b[0m\n",
            "\u001b[0;32m/usr/local/lib/python3.7/dist-packages/pandas/core/frame.py\u001b[0m in \u001b[0;36m__getitem__\u001b[0;34m(self, key)\u001b[0m\n\u001b[1;32m   3456\u001b[0m             \u001b[0;32mif\u001b[0m \u001b[0mself\u001b[0m\u001b[0;34m.\u001b[0m\u001b[0mcolumns\u001b[0m\u001b[0;34m.\u001b[0m\u001b[0mnlevels\u001b[0m \u001b[0;34m>\u001b[0m \u001b[0;36m1\u001b[0m\u001b[0;34m:\u001b[0m\u001b[0;34m\u001b[0m\u001b[0;34m\u001b[0m\u001b[0m\n\u001b[1;32m   3457\u001b[0m                 \u001b[0;32mreturn\u001b[0m \u001b[0mself\u001b[0m\u001b[0;34m.\u001b[0m\u001b[0m_getitem_multilevel\u001b[0m\u001b[0;34m(\u001b[0m\u001b[0mkey\u001b[0m\u001b[0;34m)\u001b[0m\u001b[0;34m\u001b[0m\u001b[0;34m\u001b[0m\u001b[0m\n\u001b[0;32m-> 3458\u001b[0;31m             \u001b[0mindexer\u001b[0m \u001b[0;34m=\u001b[0m \u001b[0mself\u001b[0m\u001b[0;34m.\u001b[0m\u001b[0mcolumns\u001b[0m\u001b[0;34m.\u001b[0m\u001b[0mget_loc\u001b[0m\u001b[0;34m(\u001b[0m\u001b[0mkey\u001b[0m\u001b[0;34m)\u001b[0m\u001b[0;34m\u001b[0m\u001b[0;34m\u001b[0m\u001b[0m\n\u001b[0m\u001b[1;32m   3459\u001b[0m             \u001b[0;32mif\u001b[0m \u001b[0mis_integer\u001b[0m\u001b[0;34m(\u001b[0m\u001b[0mindexer\u001b[0m\u001b[0;34m)\u001b[0m\u001b[0;34m:\u001b[0m\u001b[0;34m\u001b[0m\u001b[0;34m\u001b[0m\u001b[0m\n\u001b[1;32m   3460\u001b[0m                 \u001b[0mindexer\u001b[0m \u001b[0;34m=\u001b[0m \u001b[0;34m[\u001b[0m\u001b[0mindexer\u001b[0m\u001b[0;34m]\u001b[0m\u001b[0;34m\u001b[0m\u001b[0;34m\u001b[0m\u001b[0m\n",
            "\u001b[0;32m/usr/local/lib/python3.7/dist-packages/pandas/core/indexes/base.py\u001b[0m in \u001b[0;36mget_loc\u001b[0;34m(self, key, method, tolerance)\u001b[0m\n\u001b[1;32m   3361\u001b[0m                 \u001b[0;32mreturn\u001b[0m \u001b[0mself\u001b[0m\u001b[0;34m.\u001b[0m\u001b[0m_engine\u001b[0m\u001b[0;34m.\u001b[0m\u001b[0mget_loc\u001b[0m\u001b[0;34m(\u001b[0m\u001b[0mcasted_key\u001b[0m\u001b[0;34m)\u001b[0m\u001b[0;34m\u001b[0m\u001b[0;34m\u001b[0m\u001b[0m\n\u001b[1;32m   3362\u001b[0m             \u001b[0;32mexcept\u001b[0m \u001b[0mKeyError\u001b[0m \u001b[0;32mas\u001b[0m \u001b[0merr\u001b[0m\u001b[0;34m:\u001b[0m\u001b[0;34m\u001b[0m\u001b[0;34m\u001b[0m\u001b[0m\n\u001b[0;32m-> 3363\u001b[0;31m                 \u001b[0;32mraise\u001b[0m \u001b[0mKeyError\u001b[0m\u001b[0;34m(\u001b[0m\u001b[0mkey\u001b[0m\u001b[0;34m)\u001b[0m \u001b[0;32mfrom\u001b[0m \u001b[0merr\u001b[0m\u001b[0;34m\u001b[0m\u001b[0;34m\u001b[0m\u001b[0m\n\u001b[0m\u001b[1;32m   3364\u001b[0m \u001b[0;34m\u001b[0m\u001b[0m\n\u001b[1;32m   3365\u001b[0m         \u001b[0;32mif\u001b[0m \u001b[0mis_scalar\u001b[0m\u001b[0;34m(\u001b[0m\u001b[0mkey\u001b[0m\u001b[0;34m)\u001b[0m \u001b[0;32mand\u001b[0m \u001b[0misna\u001b[0m\u001b[0;34m(\u001b[0m\u001b[0mkey\u001b[0m\u001b[0;34m)\u001b[0m \u001b[0;32mand\u001b[0m \u001b[0;32mnot\u001b[0m \u001b[0mself\u001b[0m\u001b[0;34m.\u001b[0m\u001b[0mhasnans\u001b[0m\u001b[0;34m:\u001b[0m\u001b[0;34m\u001b[0m\u001b[0;34m\u001b[0m\u001b[0m\n",
            "\u001b[0;31mKeyError\u001b[0m: 'X3 distanc to the nearest MRT station'"
          ]
        },
        {
          "output_type": "display_data",
          "data": {
            "text/plain": [
              "<Figure size 432x288 with 1 Axes>"
            ],
            "image/png": "[encoded data removed]"
          },
          "metadata": {
            "needs_background": "light"
          }
        }
      ]
    },
    {
      "cell_type": "code",
      "source": [
        "ee=[]\n",
        "import numpy as np\n",
        "mm=[]\n",
        "cc=[]\n",
        "def liner(m1,m2,m3,c):\n",
        "  ye=[]\n",
        "  yp=[]\n",
        "  sum=0\n",
        "  mm.append(m1)\n",
        "  cc.append(c)\n",
        "\n",
        "  for i in range(0,len(x1)):\n",
        "    yp.append(m1*x1[i]+m2*x2[i]+m3*x3[i]+c)\n",
        "    ye.append((y[i]-yp[i])**2)\n",
        "  for i in range(0,len(x1)):\n",
        "    sum=sum+ye[i]\n",
        "  ee1=np.mod(sum,len(x1))\n",
        "  ee.append(ee1)\n",
        "  print(ee1)\n"
      ],
      "metadata": {
        "id": "cjr_Fjje7aqG"
      },
      "execution_count": null,
      "outputs": []
    },
    {
      "cell_type": "code",
      "source": [
        "a=np.array(ee).min()\n",
        "print(a)\n",
        "ind=ee.index(a)\n",
        "print(ind)\n",
        "print(mm[ind],cc[ind])\n",
        "print(len(ee))\n",
        "print(\"lll\",ee[38])\n"
      ],
      "metadata": {
        "id": "wmrlzV_n7b4q"
      },
      "execution_count": null,
      "outputs": []
    },
    {
      "cell_type": "code",
      "source": [
        "for i in range(0,100):\n",
        "  liner(i+50,i+100,i+i,i+1)\n"
      ],
      "metadata": {
        "id": "qpcSrBuy7gq3"
      },
      "execution_count": null,
      "outputs": []
    },
    {
      "cell_type": "code",
      "source": [
        "from matplotlib import pyplot as pt\n",
        "import numpy as np\n",
        "x=[]\n",
        "for i in range(0,100):\n",
        "  x.append(i)\n",
        "pt.plot(x,ee)\n"
      ],
      "metadata": {
        "id": "vlkdObjF7pyS"
      },
      "execution_count": null,
      "outputs": []
    },
    {
      "cell_type": "code",
      "source": [
        "from matplotlib import pyplot as plt\n",
        "plt.scatter(x3,y)\n"
      ],
      "metadata": {
        "id": "nLG6Gnc47tV_"
      },
      "execution_count": null,
      "outputs": []
    },
    {
      "cell_type": "code",
      "source": [
        "x4=d['X4 number of convenience stores']\n",
        "y=d['Y house price of unit area']\n",
        "print(x4,y)\n"
      ],
      "metadata": {
        "id": "zmkEE1dh7wsr"
      },
      "execution_count": null,
      "outputs": []
    },
    {
      "cell_type": "code",
      "source": [
        "ee=[]\n",
        "import numpy as np\n",
        "mm=[]\n",
        "cc=[]\n",
        "def liner(m1,m2,m3,m4,c):\n",
        "  ye=[]\n",
        "  yp=[]\n",
        "  sum=0\n",
        "  mm.append(m1)\n",
        "  cc.append(c)\n",
        "\n",
        "  for i in range(0,len(x1)):\n",
        "    yp.append(m1*x1[i]+m2*x2[i]+m3*x3[i]+m4*x4[i]+c)\n",
        "    ye.append((y[i]-yp[i])**2)\n",
        "  for i in range(0,len(x1)):\n",
        "    sum=sum+ye[i]\n",
        "  ee1=np.mod(sum,len(x1))\n",
        "  ee.append(ee1)\n",
        "  print(ee1)\n"
      ],
      "metadata": {
        "id": "nnqAzX6d7z1H"
      },
      "execution_count": null,
      "outputs": []
    },
    {
      "cell_type": "code",
      "source": [
        "a=np.array(ee).min()\n",
        "print(a)\n",
        "ind=ee.index(a)\n",
        "print(ind)\n",
        "print(mm[ind],cc[ind])\n",
        "print(len(ee))\n",
        "print(\"lll\",ee[20])\n",
        "\n"
      ],
      "metadata": {
        "id": "khaZwgwV73J7"
      },
      "execution_count": null,
      "outputs": []
    },
    {
      "cell_type": "code",
      "source": [
        "for i in range(0,50):\n",
        "  liner(i+10,i+30,i+i,i+1,i+5)\n"
      ],
      "metadata": {
        "id": "gHOeqRQe763k"
      },
      "execution_count": null,
      "outputs": []
    },
    {
      "cell_type": "code",
      "source": [
        "from matplotlib import pyplot as pt\n",
        "import numpy as np\n",
        "x=[]\n",
        "for i in range(0,50):\n",
        "  x.append(i)\n",
        "pt.plot(x,ee)\n"
      ],
      "metadata": {
        "id": "BLO0xFMl8CXe"
      },
      "execution_count": null,
      "outputs": []
    },
    {
      "cell_type": "code",
      "source": [
        "from matplotlib import pyplot as plt\n",
        "plt.scatter(x4,y)\n",
        "\n"
      ],
      "metadata": {
        "id": "E7BsSjgp8D8O"
      },
      "execution_count": null,
      "outputs": []
    },
    {
      "cell_type": "code",
      "source": [
        "x5=d['X5 latitude']\n",
        "y=d['Y house price of unit area']\n",
        "print(x5,y)\n"
      ],
      "metadata": {
        "id": "di5wRc7i8HLs"
      },
      "execution_count": null,
      "outputs": []
    },
    {
      "cell_type": "code",
      "source": [
        "ee=[]\n",
        "import numpy as np\n",
        "mm=[]\n",
        "cc=[]\n",
        "def liner(m1,m2,m3,m4,m5,c):\n",
        "  ye=[]\n",
        "  yp=[]\n",
        "  sum=0\n",
        "  mm.append(m1)\n",
        "  cc.append(c)\n",
        "  for i in range(0,len(x1)):\n",
        "    yp.append(m1*x1[i]+m2*x2[i]+m3*x3[i]+m4*x4[i]+m5*x5[i]+c)\n",
        "    ye.append((y[i]-yp[i])**2)\n",
        "  for i in range(0,len(x1)):\n",
        "    sum=sum+ye[i]\n",
        "  ee1=np.mod(sum,len(x1))\n",
        "  ee.append(ee1)\n",
        "  print(ee1)\n"
      ],
      "metadata": {
        "id": "YzDPjcdZ8K1A"
      },
      "execution_count": null,
      "outputs": []
    },
    {
      "cell_type": "code",
      "source": [
        "a=np.array(ee).min()\n",
        "print(a)\n",
        "ind=ee.index(a)\n",
        "print(ind)\n",
        "print(mm[ind],cc[ind])\n",
        "print(len(ee))\n",
        "print(\"lll\",ee[34])\n"
      ],
      "metadata": {
        "id": "6u2y5MBO8Onj"
      },
      "execution_count": null,
      "outputs": []
    },
    {
      "cell_type": "code",
      "source": [
        "for i in range(0,50):\n",
        "  liner(i+10,i+20,i+30,i+i,i+5,i+9)\n",
        "\n"
      ],
      "metadata": {
        "id": "wrXp7EBm8WLw"
      },
      "execution_count": null,
      "outputs": []
    },
    {
      "cell_type": "code",
      "source": [
        "from matplotlib import pyplot as pt\n",
        "import numpy as np\n",
        "x=[]\n",
        "for i in range(0,50):\n",
        "  x.append(i)\n",
        "pt.plot(x,ee)\n"
      ],
      "metadata": {
        "id": "x6T2t8cR8dnc"
      },
      "execution_count": null,
      "outputs": []
    },
    {
      "cell_type": "code",
      "source": [
        "from matplotlib import pyplot as plt\n",
        "plt.scatter(x5,y)\n"
      ],
      "metadata": {
        "id": "3iFtHsJW8h2h"
      },
      "execution_count": null,
      "outputs": []
    },
    {
      "cell_type": "code",
      "source": [
        "x6=d['X6 longitude']\n",
        "y=d['Y house price of unit area']\n",
        "print(x6,y)\n"
      ],
      "metadata": {
        "id": "WHsg_OLn8i6r"
      },
      "execution_count": null,
      "outputs": []
    },
    {
      "cell_type": "code",
      "source": [
        "ee=[]\n",
        "import numpy as np\n",
        "mm=[]\n",
        "cc=[]\n",
        "def liner(m1,m2,m3,m4,m5,m6,c):\n",
        "  ye=[]\n",
        "  yp=[]\n",
        "  sum=0\n",
        "  mm.append(m1)\n",
        "  cc.append(c)\n",
        "  for i in range(0,len(x1)):\n",
        "    yp.append(m1*x1[i]+m2*x2[i]+m3*x3[i]+m4*x4[i]+m5*x5[i]+m6*x6[i]+c)\n",
        "    ye.append((y[i]-yp[i])**2)\n",
        "  for i in range(0,len(x1)):\n",
        "    sum=sum+ye[i]\n",
        "  ee1=np.mod(sum,len(x1))\n",
        "  ee.append(ee1)\n",
        "  print(ee1)\n"
      ],
      "metadata": {
        "id": "F2Dr8Q3S8mNA"
      },
      "execution_count": null,
      "outputs": []
    },
    {
      "cell_type": "code",
      "source": [
        "a=np.array(ee).min()\n",
        "print(a)\n",
        "ind=ee.index(a)\n",
        "print(ind)\n",
        "print(mm[ind],cc[ind])\n",
        "print(len(ee))\n",
        "print(\"lll\",ee[35])\n"
      ],
      "metadata": {
        "id": "MNP8ZReX8pIG"
      },
      "execution_count": null,
      "outputs": []
    },
    {
      "cell_type": "code",
      "source": [
        "for i in range(0,50):\n",
        "  liner(i+10,i+20,i+30,i+i,i+5,i+9,i+13)\n"
      ],
      "metadata": {
        "id": "Q3HTTQgD8ryn"
      },
      "execution_count": null,
      "outputs": []
    },
    {
      "cell_type": "code",
      "source": [
        "from matplotlib import pyplot as pt\n",
        "import numpy as np\n",
        "x=[]\n",
        "for i in range(0,50):\n",
        "  x.append(i)\n",
        "pt.plot(x,ee)\n"
      ],
      "metadata": {
        "id": "J7Ja-x5q8eoZ"
      },
      "execution_count": null,
      "outputs": []
    },
    {
      "cell_type": "code",
      "source": [
        "from matplotlib import pyplot as plt\n",
        "plt.scatter(x6,y)"
      ],
      "metadata": {
        "colab": {
          "base_uri": "https://localhost:8080/",
          "height": 183
        },
        "id": "9-lYOl4q81Vn",
        "outputId": "bd1db046-16f8-4523-8f22-fb98082a50e6"
      },
      "execution_count": null,
      "outputs": [
        {
          "output_type": "error",
          "ename": "NameError",
          "evalue": "ignored",
          "traceback": [
            "\u001b[0;31m---------------------------------------------------------------------------\u001b[0m",
            "\u001b[0;31mNameError\u001b[0m                                 Traceback (most recent call last)",
            "\u001b[0;32m<ipython-input-20-ab5c10c4831d>\u001b[0m in \u001b[0;36m<module>\u001b[0;34m()\u001b[0m\n\u001b[1;32m      1\u001b[0m \u001b[0;32mfrom\u001b[0m \u001b[0mmatplotlib\u001b[0m \u001b[0;32mimport\u001b[0m \u001b[0mpyplot\u001b[0m \u001b[0;32mas\u001b[0m \u001b[0mplt\u001b[0m\u001b[0;34m\u001b[0m\u001b[0;34m\u001b[0m\u001b[0m\n\u001b[0;32m----> 2\u001b[0;31m \u001b[0mplt\u001b[0m\u001b[0;34m.\u001b[0m\u001b[0mscatter\u001b[0m\u001b[0;34m(\u001b[0m\u001b[0mx6\u001b[0m\u001b[0;34m,\u001b[0m\u001b[0my\u001b[0m\u001b[0;34m)\u001b[0m\u001b[0;34m\u001b[0m\u001b[0;34m\u001b[0m\u001b[0m\n\u001b[0m",
            "\u001b[0;31mNameError\u001b[0m: name 'x6' is not defined"
          ]
        }
      ]
    }
  ]
}